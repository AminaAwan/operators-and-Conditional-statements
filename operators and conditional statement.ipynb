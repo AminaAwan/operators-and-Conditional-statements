{
 "cells": [
  {
   "cell_type": "markdown",
   "id": "f546a435-3676-4d63-9cf5-5a0a463a2a5b",
   "metadata": {},
   "source": [
    "# Bin function"
   ]
  },
  {
   "cell_type": "code",
   "execution_count": 1,
   "id": "2f2253af-0947-4029-9293-55be8042c822",
   "metadata": {},
   "outputs": [
    {
     "name": "stdout",
     "output_type": "stream",
     "text": [
      "0b1010\n"
     ]
    }
   ],
   "source": [
    "a = 10\n",
    "print(bin(a))  #It converts the number into binary numbers"
   ]
  },
  {
   "cell_type": "markdown",
   "id": "3daee4f3-97a8-4dd2-ba46-80d9e33a373e",
   "metadata": {},
   "source": [
    "# Eval Function"
   ]
  },
  {
   "cell_type": "code",
   "execution_count": 3,
   "id": "915b4fa7-2389-40ab-aef0-4115603620a2",
   "metadata": {},
   "outputs": [
    {
     "name": "stdout",
     "output_type": "stream",
     "text": [
      "20\n"
     ]
    }
   ],
   "source": [
    "x = 10\n",
    "y = 5\n",
    "expression = \"x + y * 2\"\n",
    "print(eval(expression))  #It evaluates the expression and give the answer by solving it."
   ]
  },
  {
   "cell_type": "markdown",
   "id": "2b986e06-5fc9-4b5f-bb72-80e9997384b8",
   "metadata": {},
   "source": [
    "# Help Function"
   ]
  },
  {
   "cell_type": "code",
   "execution_count": 4,
   "id": "8e3c6fdb-70e9-43cf-a19c-bce27786fc3a",
   "metadata": {},
   "outputs": [
    {
     "name": "stdout",
     "output_type": "stream",
     "text": [
      "Help on built-in function sum in module builtins:\n",
      "\n",
      "sum(iterable, /, start=0)\n",
      "    Return the sum of a 'start' value (default: 0) plus an iterable of numbers\n",
      "\n",
      "    When the iterable is empty, return the start value.\n",
      "    This function is intended specifically for use with numeric values and may\n",
      "    reject non-numeric types.\n",
      "\n"
     ]
    }
   ],
   "source": [
    "help(sum)"
   ]
  },
  {
   "cell_type": "code",
   "execution_count": 5,
   "id": "1119ecdb-1bea-44bc-be71-384fb7698b3b",
   "metadata": {},
   "outputs": [
    {
     "data": {
      "text/plain": [
       "\u001b[1;31mSignature:\u001b[0m \u001b[0msum\u001b[0m\u001b[1;33m(\u001b[0m\u001b[0miterable\u001b[0m\u001b[1;33m,\u001b[0m \u001b[1;33m/\u001b[0m\u001b[1;33m,\u001b[0m \u001b[0mstart\u001b[0m\u001b[1;33m=\u001b[0m\u001b[1;36m0\u001b[0m\u001b[1;33m)\u001b[0m\u001b[1;33m\u001b[0m\u001b[1;33m\u001b[0m\u001b[0m\n",
       "\u001b[1;31mDocstring:\u001b[0m\n",
       "Return the sum of a 'start' value (default: 0) plus an iterable of numbers\n",
       "\n",
       "When the iterable is empty, return the start value.\n",
       "This function is intended specifically for use with numeric values and may\n",
       "reject non-numeric types.\n",
       "\u001b[1;31mType:\u001b[0m      builtin_function_or_method"
      ]
     },
     "metadata": {},
     "output_type": "display_data"
    }
   ],
   "source": [
    "sum??"
   ]
  },
  {
   "cell_type": "markdown",
   "id": "f7838b55-c707-4de1-bfca-e5526992efdf",
   "metadata": {},
   "source": [
    "# Practice Question"
   ]
  },
  {
   "cell_type": "code",
   "execution_count": 15,
   "id": "9ffe907f-7d88-479a-97fb-c1c28ff54845",
   "metadata": {},
   "outputs": [
    {
     "name": "stdin",
     "output_type": "stream",
     "text": [
      "Enter an age in years:  -30\n",
      "Enter weight in kg: 60\n",
      "Enter height in cm:  170\n"
     ]
    },
    {
     "name": "stdout",
     "output_type": "stream",
     "text": [
      "correct age:  30\n",
      "The bmr of the patient is:  1878\n"
     ]
    }
   ],
   "source": [
    "age = int(input(\"Enter an age in years: \"))   #Ask age from user\n",
    "weight = int(input(\"Enter weight in kg:\"))    #Ask weight from user\n",
    "height = float(input(\"Enter height in cm: \")) #ask height from user\n",
    "print(\"correct age: \", abs(age))              # convert age into positie alue using absolute function\n",
    "BMR = \" 88.362 + (13.397 * weight) + (4.799 * height) - (5.677 * age) \"  #applying formula for calculating  Basal Metabolic rate\n",
    "bmr = eval(BMR)                              #Evaluate expression\n",
    "print(\"The bmr of the patient is: \", int(bmr)) #converting final result into integer values"
   ]
  },
  {
   "cell_type": "markdown",
   "id": "f8bee46e-ac19-49a4-ae0f-aa276a60d9c7",
   "metadata": {},
   "source": [
    "# Question 2"
   ]
  },
  {
   "cell_type": "markdown",
   "id": "9465474f-1537-4892-a4cf-f5b7cb5d7beb",
   "metadata": {},
   "source": [
    "# Write a Python code for hostel students, ask them to mention their course name and age.\n",
    "# for 5 students and calculate their avg age"
   ]
  },
  {
   "cell_type": "code",
   "execution_count": 17,
   "id": "a658c650-ee4d-458e-aed2-96346c562542",
   "metadata": {},
   "outputs": [
    {
     "name": "stdin",
     "output_type": "stream",
     "text": [
      "Enter course_name of a first student: AI\n",
      "Enter course_nameof a second student: NLP\n",
      "Enter course_name of a third student: ML\n",
      "Enter course_name of a fourth student: Computer\n",
      "Enter course_name of a fifth student: Networking\n",
      "Enter age of a first student: 33\n",
      "Enter age of a second student: 32\n",
      "Enter age of a third student: 30\n",
      "Enter age of a fourth student: 25\n",
      "Enter age of a fifth student: 45\n"
     ]
    },
    {
     "name": "stdout",
     "output_type": "stream",
     "text": [
      "33.0\n"
     ]
    }
   ],
   "source": [
    "stud_1_name = input(\"Enter course_name of a first student:\" )    #mention students course name age\n",
    "stud_2_name = input(\"Enter course_nameof a second student:\" )\n",
    "stud_3_name = input(\"Enter course_name of a third student:\" )\n",
    "stud_4_name = input(\"Enter course_name of a fourth student:\" )\n",
    "stud_5_name = input(\"Enter course_name of a fifth student:\" )\n",
    "stud_1_age = int(input(\"Enter age of a first student:\" ))\n",
    "stud_2_age = int(input(\"Enter age of a second student:\" ))\n",
    "stud_3_age = int(input(\"Enter age of a third student:\" ))\n",
    "stud_4_age = int(input(\"Enter age of a fourth student:\" ))\n",
    "stud_5_age = int(input(\"Enter age of a fifth student:\" ))\n",
    "\n",
    "avg = (stud_1_age + stud_2_age + stud_3_age + stud_4_age + stud_5_age)/5  #average calculation of students' age\n",
    "print(avg)"
   ]
  },
  {
   "cell_type": "markdown",
   "id": "65f451ca-cb86-4fb0-8b90-e548cd34c828",
   "metadata": {},
   "source": [
    "# Practice for interview Question\n",
    "Question 1"
   ]
  },
  {
   "cell_type": "code",
   "execution_count": 18,
   "id": "c2e30fa4-e772-4218-8ca9-649305179185",
   "metadata": {},
   "outputs": [
    {
     "name": "stdin",
     "output_type": "stream",
     "text": [
      "Enter a mathematical expression:  (2 + 3) * 23/5 - 10\n"
     ]
    },
    {
     "name": "stdout",
     "output_type": "stream",
     "text": [
      "The result is  13.0\n"
     ]
    }
   ],
   "source": [
    "math_exp = input(\"Enter a mathematical expression: \")  # Ask particpants to enter a mathematical expression\n",
    "result = eval(math_exp)                                #Evaluate expression\n",
    "print(\"The result is \", result)                        # Display the result to participant"
   ]
  },
  {
   "cell_type": "markdown",
   "id": "eb350365-8471-4c4f-9f2d-ff6264975acc",
   "metadata": {},
   "source": [
    "# Question 2"
   ]
  },
  {
   "cell_type": "code",
   "execution_count": 20,
   "id": "52f3120b-413b-4f0e-aa53-c0058836983c",
   "metadata": {},
   "outputs": [
    {
     "name": "stdin",
     "output_type": "stream",
     "text": [
      "Enter user1 house size:  3000\n",
      "Enter user1 bedrooms:  4\n",
      "Enter user 1 budget price:  5000000\n",
      "Enter user2 house size:  4000\n",
      "Enter user2 bedrooms:  5\n",
      "Enter user2 budget price:  8000000\n"
     ]
    },
    {
     "name": "stdout",
     "output_type": "stream",
     "text": [
      "User1 is paying above threshhold  True\n",
      "User2 is paying above threshhold  True\n",
      "\n"
     ]
    }
   ],
   "source": [
    "house_size_1 = float(input(\"Enter user1 house size: \"))   #Ask user 1 & 2 enter the house size and  no of bedrooms\n",
    "bedrooms_1 = int(input(\"Enter user1 bedrooms: \"))\n",
    "price_1 = int(input(\"Enter user 1 budget price: \"))\n",
    "\n",
    "house_size_2 = float(input(\"Enter user2 house size: \"))\n",
    "bedrooms_2 = int(input(\"Enter user2 bedrooms: \"))\n",
    "price_2 = int(input(\"Enter user2 budget price: \"))\n",
    "\n",
    "house_price_1 = house_size_1 * 5000               #Calculation of house price for user 1\n",
    "print(\"The price of house 1 is: \",house_price_1)\n",
    "\n",
    "house_price_2 = house_size_2 * 5000                     #Calculation of house price for user 1\n",
    "print(\"The price of house 2 is: \",house_price_2)\n",
    "\n",
    "threshold_price = 7500000\n",
    "\n",
    "user_threshold_1 = house_price_1 >= threshold_price     #To check whether house price is greater than threshold price\n",
    "user_threshold_2 = house_price_2 >= threshold_price\n",
    "\n",
    "print(f\"User1 is paying above threshhold \", user_threshold_1)\n",
    "print(f\"User2 is paying above threshhold \", user_threshold_2)"
   ]
  },
  {
   "cell_type": "markdown",
   "id": "98f62243-09b8-43d8-b7be-b15fbe9e8be8",
   "metadata": {},
   "source": [
    "# Question 3"
   ]
  },
  {
   "cell_type": "code",
   "execution_count": 24,
   "id": "db4af716-255e-44e2-b957-ff66ad1b698f",
   "metadata": {},
   "outputs": [
    {
     "name": "stdout",
     "output_type": "stream",
     "text": [
      "The new price of the stock is:  220.00000000000003\n"
     ]
    },
    {
     "name": "stdin",
     "output_type": "stream",
     "text": [
      "Enter budget:  80000\n"
     ]
    },
    {
     "name": "stdout",
     "output_type": "stream",
     "text": [
      "The budget is greater than new price:  True\n"
     ]
    }
   ],
   "source": [
    "stock_symbol = \"xyz\"   #Variables declared\n",
    "curr_price = 200         #Current prcie\n",
    "perc_change_in_price = 10   #percentage chaneg in price\n",
    "new_price = curr_price * (1+perc_change_in_price/100)  #new price calculation by 10% increment\n",
    "print(\"The new price of the stock is: \", new_price)\n",
    "budget = float(input(\"Enter budget: \"))              #budget from user\n",
    "budg_comp = budget >= new_price                      #budget comparison with new price\n",
    "print(\"The budget is greater than new price: \",budg_comp)"
   ]
  },
  {
   "cell_type": "markdown",
   "id": "c4551442-dfe1-4ad2-a698-f4d331a9098b",
   "metadata": {},
   "source": [
    "# Question 4"
   ]
  },
  {
   "cell_type": "code",
   "execution_count": 28,
   "id": "c2832da7-1380-46ae-be2b-55cccd364031",
   "metadata": {},
   "outputs": [
    {
     "name": "stdout",
     "output_type": "stream",
     "text": [
      "The current temperature is within the range of maximum and minimum temperature:  False\n"
     ]
    }
   ],
   "source": [
    "curr_temp = 51   #Current temperature\n",
    "min_temp = 30    #minimum temperature\n",
    "max_temp = 49    #maximum temperature\n",
    "curr_temp_range = min_temp <= curr_temp <= max_temp  # To check whether current temperature is within the range or not?\n",
    "print(f\"The current temperature is within the range of maximum and minimum temperature: \", curr_temp_range)"
   ]
  },
  {
   "cell_type": "markdown",
   "id": "3dc2698c-494e-4879-9169-dacf0c240d98",
   "metadata": {},
   "source": [
    "# Today's Assignment Questions of conditional statement using if, elif and else\n"
   ]
  },
  {
   "cell_type": "markdown",
   "id": "8d17d194-f4ad-459b-b345-691e4e6c0785",
   "metadata": {},
   "source": [
    "# Question 1"
   ]
  },
  {
   "cell_type": "code",
   "execution_count": 30,
   "id": "6d7700ca-6abe-4026-a92f-2a0589df15fd",
   "metadata": {},
   "outputs": [
    {
     "name": "stdin",
     "output_type": "stream",
     "text": [
      "Enter a number:  34\n"
     ]
    },
    {
     "name": "stdout",
     "output_type": "stream",
     "text": [
      "Number is big.\n"
     ]
    }
   ],
   "source": [
    "num = int(input(\"Enter a number: \"))   # Ask user to enter a number \n",
    "if num > 10:                           # condition is applied to check whether number is greater or smaller\n",
    "    print(\"Number is big.\")  \n",
    "else:\n",
    "    print(\"Number is small.\")"
   ]
  },
  {
   "cell_type": "markdown",
   "id": "21773891-6675-4af3-af8c-7d95e2b495de",
   "metadata": {},
   "source": [
    "# Question 2"
   ]
  },
  {
   "cell_type": "code",
   "execution_count": 32,
   "id": "48b8eb4e-60f8-45b3-8b1f-1ef8a68f4c89",
   "metadata": {},
   "outputs": [
    {
     "name": "stdin",
     "output_type": "stream",
     "text": [
      "Enter age of user:  12\n"
     ]
    },
    {
     "name": "stdout",
     "output_type": "stream",
     "text": [
      "You are not an adult.\n"
     ]
    }
   ],
   "source": [
    "age = int(input(\"Enter age of user: \"))  #Ask user to enter age\n",
    "if age >= 18:                            #condition to check whether entered age is greater or less than 18\n",
    "    print(\"You are an adult.\")          #in case of condition is true print this statment\n",
    "else:\n",
    "    print(\"You are not an adult.\")      #in case of condition is false print this statment"
   ]
  },
  {
   "cell_type": "markdown",
   "id": "5642033d-270f-45da-8114-0773cca8e95a",
   "metadata": {},
   "source": [
    "# Question 3"
   ]
  },
  {
   "cell_type": "code",
   "execution_count": 34,
   "id": "221b4cd8-6cbd-49a2-b93d-ed533822ed77",
   "metadata": {},
   "outputs": [
    {
     "name": "stdin",
     "output_type": "stream",
     "text": [
      "Enter a number:  39\n"
     ]
    },
    {
     "name": "stdout",
     "output_type": "stream",
     "text": [
      "odd number\n"
     ]
    }
   ],
   "source": [
    "num = int(input(\"Enter a number: \"))   #Ask user to enter a number\n",
    "if num %2 == 0:                        # condition is applied to check even and odd numebr\n",
    "    print(\"Even number.\")              #in case of condition is true print this statment\n",
    "else:\n",
    "    print(\"odd number\")               #in case of condition is false print this statment"
   ]
  },
  {
   "cell_type": "markdown",
   "id": "64a74967-1f96-4024-a244-9902c8a3d265",
   "metadata": {},
   "source": [
    "# Question 4"
   ]
  },
  {
   "cell_type": "code",
   "execution_count": 36,
   "id": "c9c22902-4180-4369-b4c9-866393d0803d",
   "metadata": {},
   "outputs": [
    {
     "name": "stdin",
     "output_type": "stream",
     "text": [
      "Enter first number:  23\n",
      "Enter second number:  45\n"
     ]
    },
    {
     "name": "stdout",
     "output_type": "stream",
     "text": [
      "Second is bigger.\n"
     ]
    }
   ],
   "source": [
    "num1 = int(input(\"Enter first number: \"))    #Ask user to enter first number\n",
    "num2 = int(input(\"Enter second number: \"))   ##Ask user to enter second number\n",
    "if num1 > num2:                              # comparison of both numbers to check which is greater \n",
    "    print(\"First is greater.\")\n",
    "elif num2 > num1:\n",
    "    print(\"Second is bigger.\")\n",
    "else:\n",
    "    print(\"Both are equal.\")"
   ]
  },
  {
   "cell_type": "markdown",
   "id": "e051f6c5-0543-4e9c-b3e2-9eb77d077801",
   "metadata": {},
   "source": [
    "# Question 5"
   ]
  },
  {
   "cell_type": "code",
   "execution_count": 38,
   "id": "772844ad-fcbb-4ac5-a8af-c64ae8a15e10",
   "metadata": {},
   "outputs": [
    {
     "name": "stdin",
     "output_type": "stream",
     "text": [
      "Enter user name:  Ali\n"
     ]
    },
    {
     "name": "stdout",
     "output_type": "stream",
     "text": [
      "Welcome Ali!\n"
     ]
    }
   ],
   "source": [
    "name = input(\"Enter user name: \")    # Ask user to enter his name\n",
    "if name == \"Ali\":                    # to check is entering name by user is Ali or not\n",
    "    print(\"Welcome Ali!\")            \n",
    "else:\n",
    "    print(\"You are not Ali.\")"
   ]
  },
  {
   "cell_type": "markdown",
   "id": "f649b1da-1e7c-4e0a-8f90-f9f5f18d7387",
   "metadata": {},
   "source": [
    "# Calculate Net salary "
   ]
  },
  {
   "cell_type": "code",
   "execution_count": 42,
   "id": "cc269950-1421-4767-9f39-5e414438894a",
   "metadata": {},
   "outputs": [
    {
     "name": "stdin",
     "output_type": "stream",
     "text": [
      "Enter your base salary 50000\n",
      "Enter your years of service 6\n"
     ]
    },
    {
     "name": "stdout",
     "output_type": "stream",
     "text": [
      "You will get net_salary  199994000.0\n"
     ]
    }
   ],
   "source": [
    "base_salary = float(input(\"Enter your base salary\"))\n",
    "years_of_service = int(input(\"Enter your years of service\"))\n",
    "if years_of_service > 5:\n",
    "    total_salary = base_salary * (0.08 * base_salary) - (0.12 * base_salary)\n",
    "    print(\"You will get net_salary \", total_salary)\n",
    "else:\n",
    "    net_salary = base_salary * (0.12 * base_salary)\n",
    "    print(\"your net salary is: \", net_salary)"
   ]
  },
  {
   "cell_type": "markdown",
   "id": "00cd53c9-06c0-4056-a950-120863f7b86b",
   "metadata": {},
   "source": [
    "# Example 2"
   ]
  },
  {
   "cell_type": "code",
   "execution_count": 45,
   "id": "cd610016-8610-47e9-b5fa-7f0488b2ec7b",
   "metadata": {},
   "outputs": [
    {
     "name": "stdin",
     "output_type": "stream",
     "text": [
      "Enter the city  delhi\n"
     ]
    },
    {
     "name": "stdout",
     "output_type": "stream",
     "text": [
      "No record found.\n"
     ]
    }
   ],
   "source": [
    "a = input(\"Enter the city \")\n",
    "\n",
    "if a == \"Mumbai\":\n",
    "    print(\"The famous momument is gateway of India.\")\n",
    "elif a == \"Kolkata\":\n",
    "    print(\"The famous monument of Kolkata is Victorian Memorial. \")\n",
    "elif a == \"Chennai\":\n",
    "    print(\"The famous monument of Chennai is Marina Beach. \")\n",
    "elif a == \"Bengalore\":\n",
    "    print(\"The famous monument of Bengalore is Botanical Garden. \")\n",
    "elif a == \"Pune\":\n",
    "    print(\"The famous monument of Pune is Shaniwar Wada. \")\n",
    "else:\n",
    "    print(\"No record found.\")"
   ]
  },
  {
   "cell_type": "markdown",
   "id": "b45f1a68-43c5-402d-a359-137baf74d077",
   "metadata": {},
   "source": [
    "# print even numbers between 1 and 50 using while loop"
   ]
  },
  {
   "cell_type": "code",
   "execution_count": 49,
   "id": "e108ee4a-4408-479b-9504-1db8540c3e09",
   "metadata": {},
   "outputs": [
    {
     "name": "stdout",
     "output_type": "stream",
     "text": [
      "2\n",
      "4\n",
      "6\n",
      "8\n",
      "10\n",
      "12\n",
      "14\n",
      "16\n",
      "18\n",
      "20\n",
      "22\n",
      "24\n",
      "26\n",
      "28\n",
      "30\n",
      "32\n",
      "34\n",
      "36\n",
      "38\n",
      "40\n",
      "42\n",
      "44\n",
      "46\n",
      "48\n",
      "50\n"
     ]
    }
   ],
   "source": [
    "num = 1\n",
    "while num <= 50 :\n",
    "    if num %2 == 0:\n",
    "        print(num)\n",
    "    num = num + 1"
   ]
  },
  {
   "cell_type": "markdown",
   "id": "a54d5a2f-55db-4ff4-a115-d4a6d44623f3",
   "metadata": {},
   "source": [
    "# Email is valid or not"
   ]
  },
  {
   "cell_type": "code",
   "execution_count": null,
   "id": "fd6f91b0-fe63-4e8d-9179-e2639f150a1e",
   "metadata": {},
   "outputs": [],
   "source": [
    "email = input(\"Enter an email id \")\n",
    "\n",
    "valid_email = False\n",
    "while not valid_email:\n",
    "    if \"@\" in email and \".\" in email:\n",
    "        print(\"Your email is valid\")\n",
    "        valid_email = True\n",
    "    else:\n",
    "        print(\"Your email id is not valid, try again\")\n",
    "        print(input(\"Please enter your email again\"))"
   ]
  },
  {
   "cell_type": "code",
   "execution_count": null,
   "id": "5c11666e-cde9-4c0e-8b54-3e5e36823b63",
   "metadata": {},
   "outputs": [],
   "source": []
  }
 ],
 "metadata": {
  "kernelspec": {
   "display_name": "Python [conda env:base] *",
   "language": "python",
   "name": "conda-base-py"
  },
  "language_info": {
   "codemirror_mode": {
    "name": "ipython",
    "version": 3
   },
   "file_extension": ".py",
   "mimetype": "text/x-python",
   "name": "python",
   "nbconvert_exporter": "python",
   "pygments_lexer": "ipython3",
   "version": "3.12.7"
  }
 },
 "nbformat": 4,
 "nbformat_minor": 5
}
